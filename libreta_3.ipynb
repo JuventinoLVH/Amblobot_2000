{
  "cells": [
    {
      "attachments": {},
      "cell_type": "markdown",
      "id": "88100f1d",
      "metadata": {},
      "source": [
        "# *LIBRETA 3: Creacion del modelo*\n",
        "---"
      ]
    },
    {
      "cell_type": "code",
      "execution_count": 9,
      "id": "9d09be71",
      "metadata": {
        "id": "9d09be71"
      },
      "outputs": [],
      "source": [
        "import re, os, io, nltk, random\n",
        "\n",
        "from nltk.util import bigrams, pad_sequence, ngrams, everygrams\n",
        "from nltk.lm.preprocessing import pad_both_ends, flatten\n",
        "from nltk import word_tokenize, sent_tokenize"
      ]
    },
    {
      "cell_type": "code",
      "execution_count": 10,
      "id": "0a102eb0",
      "metadata": {
        "id": "0a102eb0"
      },
      "outputs": [],
      "source": [
        "def split(text):\n",
        "    tokens = re.split(\"\\\\s+\", text)\n",
        "    words = []\n",
        "    \n",
        "    for i in range(len(tokens)):\n",
        "        temp = [tokens[j] for j in range(i, i+1)]\n",
        "        words.append(\" \".join(temp))\n",
        "    return words"
      ]
    },
    {
      "cell_type": "code",
      "execution_count": 11,
      "id": "6402abde",
      "metadata": {
        "id": "6402abde"
      },
      "outputs": [],
      "source": [
        "def openfile(filename):\n",
        "    # Abre el archivo en modo lectura y crea una lista vacía para almacenar las sentencias\n",
        "    with open(filename, \"r\",encoding='UTF_8') as f:\n",
        "        sentencias = []\n",
        "        # Divide el archivo en filas utilizando readlines()\n",
        "        filas = f.readlines()\n",
        "\n",
        "        # Itera sobre cada fila en el archivo\n",
        "        for fila in filas:\n",
        "            # Utiliza una expresión regular para dividir la fila en sentencias\n",
        "            sentencias_en_fila = re.split(r\"[.+]+\", fila.strip())\n",
        "\n",
        "            # Agrega cada sentencia a la lista de sentencias\n",
        "            for sentencia in sentencias_en_fila:\n",
        "                if sentencia != \"\":\n",
        "                    sentencias.append(sentencia)\n",
        "        corpus_sentencias= []\n",
        "        ruido = ('\"',\"'\",'[',\"]\",\" \")\n",
        "        for sentencia in sentencias:\n",
        "            aux =''\n",
        "            for c in sentencia:\n",
        "                aux = aux + ( c if c not in ruido else '' ) \n",
        "            corpus_sentencias.append( aux.split(','))\n",
        "            \n",
        "    return corpus_sentencias"
      ]
    },
    {
      "cell_type": "code",
      "execution_count": 13,
      "id": "89449294",
      "metadata": {
        "id": "89449294"
      },
      "outputs": [
        {
          "name": "stdout",
          "output_type": "stream",
          "text": [
            "[['Entonces', 'ahora', 'Argentina', 'decide', 'apoyar', 'porque', 'está', 'en', 'una', 'situación', 'difícil', 'nosotros', 'respetamos', 'ese', 'punto', 'de', 'vista', 'pero', 'nosotros', 'ya', 'no', 'queremos', 'eso'], ['Sí'], ['No', 'es', 'que', 'nosotros', 'tenemos', 'nuestro', 'candidato', 'y', 'ellos', 'tenían', 'su', 'candidato', 'y', 'el', 'planteamiento', 'es', 'no', 'puede', 'ser', 'que', 'el', 'candidato', 'propuesto', 'por', 'el', 'gobierno', 'de', 'Brasil', 'y', 'apoyado', 'por', 'Washington', 'sea', 'el', 'que', 'impongan', 'pero', 'después', 'ellos', 'llegaron', 'a', 'un', 'arreglo', 'con', 'el', 'candidato', 'que', 'propuso', 'el', 'gobierno', 'de', 'Brasil', 'y', 'apoyó', 'Washington', 'Y', 'como', 'Argentina', 'es', 'un', 'pueblo', 'hermano', 'y', 'Alberto', 'es', 'una', 'gente', 'muy', 'cercana', 'a', 'nosotros', 'pues', 'si', 'les', 'va', 'a', 'ayudar', 'eso', 'adelante', 'y', 'ojalá', 'que', 'les', 'cumplan'], ['Yo', 'ya', 'me', 'he', 'vuelto', 'muy', '<UNK>', 'pero', 'me', 'puedo', 'equivocar', 'desde', 'luego', 'me', 'equivoco', 'como', 'cualquier', 'otra', 'persona', 'y', 'qué', 'tal', 'que', 'la', 'primera', 'acción', 'del', 'BID', 'para', '<UNK>', 'la', 'boca', 'sea', 'un', 'apoyo', 'especial', 'a', 'Argentina', 'y', 'entonces', 'sí', 'me', 'dirían', 'Tenga', 'para', 'que', 'aprenda'], ['Y', 'el', 'resto', 'porque', 'hay', 'sus', 'prácticas', 'que', 'ustedes', 'ya', 'seguramente', 'conocen', 'o', 'si', 'no', 'ahí', 'se', 'los', 'dejo', 'de', 'la', 'tarea'], ['A', 'ver', 'disculpa', 'que', 'te', 'interrumpa', 'pero', 'tú', 'dices', 'que', 'no', 'ayudarán'], ['Sí', 'que', 'no', 'ayudarán', 'en'], ['De', 'que', 'baje', 'el', 'precio', 'de', 'la', 'gasolina', 'o', 'de', 'que', 'no', 'aumente', 'el', 'precio', 'de', 'la', 'gasolina', 'y', 'que', 'no', 'van', 'a', 'ayudar', 'para', 'que', 'haya', 'desarrollo'], ['Eso', 'es', 'lo', 'que', 'dicen'], ['Tienen', 'razón', 'no', 'van', 'a', 'ayudar', 'ya', 'están', 'ayudando', 'o', 'sea', 'lo', 'puedo', 'probar', 'no', 'ha', 'aumentado', 'el', 'precio', 'de', 'las', 'gasolinas', 'no', 'ha', 'aumentado', 'el', 'precio', 'del', 'diésel', 'no', 'ha', 'aumentado', 'el', 'precio', 'de', 'la', 'luz', 'Si', 'por', 'eso', 'va', 'a', 'estar', 'muy', 'buena', 'la', 'marcha'], ['Pero', 'no', 'sólo', 'eso', 'sobre', 'desarrollo', 'saben', 'cuántos', 'empleos', 'se', 'han', 'generado', 'en', 'la', 'construcción', 'del', 'Tren', 'Maya', '110', 'mil', 'empleos'], ['En', 'los', 'cuatro', 'años', 'aun', 'con', 'pandemia', 'estamos', 'alrededor', 'de', 'un', 'millón', '500', 'mil', 'nuevos', 'empleos', 'Nunca', 'en', 'el', 'sureste', 'se', 'habían', 'creado', 'tantos', 'empleos', 'nunca', 'en', 'la', 'historia', 'reciente', 'pero', 'es', 'que', 'nuestros', 'adversarios', 'están', 'muy', 'molestos'], ['No', 'tienes', 'una', 'cita', 'ahí', 'que', 'es', 'muy', 'buena', 'de', 'Saramago', 'sobre', 'los', 'que', 'no', 'ven', 'Es', 'que', 'cuando', 'uno', 'se', 'enoja', 'cuando', 'uno', 'anda', 'de', 'mal', 'humor', 'frustrado', 'amargado', 'no', 'entienden', 'razones', 'Estos', 'no', 'vuelven', 'en', 'sí', 'sino', 'vuelven', 'en', 'no'], ['Mira', 'mira', 'es', 'preciosa'], ['Creo', 'que', 'no', 'nos', 'quedamos', 'ciegos', 'creo', 'que', 'estamos', 'ciegos', '<UNK>', 'que', 'ven', 'ciegos', 'que', 'viendo', 'no', 'ven'], ['Todo', 'el', 'pueblo', 'está', 'invitado', 'especial', 'todo', 'el', 'pueblo', 'sólo', 'nos', 'reservamos', 'el', 'derecho', 'de', 'admisión', 'para', 'provocadores', 'y', 'violentos', 'pero', 'todo', 'el', 'pueblo', 'está', 'invitado', 'todos', 'todos'], ['Quedó', 'ella'], ['Bueno', 'hay', 'que', 'ver', 'las', 'cifras', 'porque', 'les', 'va', 'a', 'molestar', 'o', 'a', 'lo', 'mejor', 'no', 'porque', 'ya', 'tienen', 'un', 'poco', 'más', 'de', 'sentido', 'del', 'humor', 'pero', 'yo', 'tengo', 'otros', 'datos'], ['Pues', 'los', 'acabo', 'de', 'dar', 'a', 'conocer', 'en', 'un', 'informe', 'de', 'septiembre', 'No', 'tienes', 'mi', 'informe', 'de', 'septiembre', 'Son', 'del', 'Inegi'], ['Y', 'están', 'ahora', 'levantando', 'una', 'encuesta', 'que', 'hacen', 'cada', 'dos', 'años', 'en', 'hogares', 'y', 'va', 'a', 'salir', 'muy', 'buena', 'para', 'los', 'pobres', 'Es', 'que', 'por', 'sentido', 'común', 'que', 'a', 'veces', 'es', 'el', 'menos', 'común', 'de', 'los', 'sentidos', 'por', 'juicio', 'práctico', 'si', 'se', 'está', 'ayudando', 'a', 'los', 'pobres', 'como', 'nunca', 'pues', 'se', 'está', 'combatiendo', 'la', 'pobreza', 'como', 'no', 'se', 'hacía', 'antes', 'Pero', 'está', 'muy', 'difícil', 'convencer', 'a', 'los', 'conservadores'], ['Afortunadamente', 'no', 'son', 'la', 'mayoría', 'son', 'millones', 'eh', 'pero', 'no', 'son', 'la', 'mayoría', 'son', 'como', 'el', '25', 'el', '30', 'por', 'ciento', 'de', 'la', 'población', 'del', 'conservadurismo', 'y', 'la', 'élite', 'de', 'ese', 'conservadurismo', 'o', 'vanguardia', 'es', 'una', 'muy', 'pequeña', 'minoría', 'porque', 'nuestro', 'país', 'desgraciadamente', 'es', 'un', 'país', 'muy', 'desigual', 'entonces', 'son', 'muy', 'pocos', 'los', 'que', 'tienen', 'muchos', 'y', 'muchos', 'los', 'que', 'tienen', 'poco'], ['Entonces', 'es', 'piramidal', 'los', 'conservadores', 'son', 'muy', 'pocos', 'sin', 'embargo', 'sí', 'tienen', 'simpatías', 'por', 'eso', 'hablo', 'de', 'los', 'aspiracionistas', 'toda', 'una', 'formación', 'y', 'llegan', 'a', '25', '30', 'por', 'ciento', 'de', 'la', 'población'], ['Ahora', 'vemos', 'los', 'datos', 'Y', 'estamos', 'avanzando', 'en', 'eso', 'pero', 'es', 'muy', 'difícil', 'que', 'ellos', 'acepten', 'la', 'nueva', 'realidad', 'Esta', 'es', 'la', 'última', 'De', 'acuerdo', 'con', 'la', 'última', 'Encuesta', 'Nacional', 'de', 'Ingresos', 'y', '<UNK>', 'de', 'los', '<UNK>', 'levantada', 'por', 'el', 'Inegi', 'de', 'agosto', 'a', 'noviembre', 'del', '20', 'que', 'la', 'del', '22', 'la', 'están', 'levantando', 'ahora', 'pero', 'vamos', 'a', 'tener', 'los', 'datos', 'hasta', 'mediados', 'del', 'año', 'próximo', 'cada', 'dos', 'años', 'esta', 'es', 'la', 'mejor', 'encuesta', 'en', 'plena', 'pandemia', 'mientras', 'que', 'en', 'el', '18', 'o', 'sea', 'cuando', 'no', 'habíamos', 'entrado', 'los', 'más', 'ricos', 'ganaban', 'en', 'promedio', '18', 'veces', 'más', 'que', 'los', 'pobres', 'los', 'más', 'ricos', 'de', 'México', 'ganaban', '18', 'veces', 'más', 'que', 'los', 'pobres', 'en', 'el', '20', 'la', 'desigualdad', 'se', 'redujo', 'a', '16', 'veces', 'Asimismo', 'en', 'ese', 'periodo', 'los', 'más', 'pobres', 'fueron', 'los', 'únicos', 'que', 'vieron', 'crecer', 'sus', 'ingresos', 'los', 'más', 'pobres', 'en', '1', '3', 'por', 'ciento', 'Estamos', 'hablando', 'de', 'la', 'pandemia', 'del', '18', 'al', '20', '18', 'octubre', 'noviembre', 'del', '2018', 'a', 'octubre', 'noviembre', 'del', '20'], ['Esto', 'se', 'confirma', 'porque', 'mientras', 'que', 'los', 'hogares', 'del', 'medio', 'urbano', 'perdían', 'por', 'la', 'pandemia', 'a', 'causa', 'de', 'la', 'pandemia', 'ocho', 'por', 'ciento', 'el', 'ingreso', 'que', 'es', 'donde', 'pegó', 'más', 'en', 'el', 'ámbito', 'rural', 'se', 'registró', 'un', 'incremento', 'del', '3', '8', 'por', 'ciento', 'de', 'acuerdo', 'a', 'esa', 'encuesta'], ['Los', 'Programas', 'para', 'el', 'Bienestar', 'permitieron', 'que', 'los', 'adultos', 'mayores', 'de', '2018', 'a', '2020', 'adultos', 'mayores', 'incrementaran', 'su', 'ingreso', 'promedio', 'trimestral', 'por', 'persona', 'de', '12', 'mil', '420', 'pesos', 'a', '13', 'mil', '586', 'pesos'], ['En', 'cuanto', 'a', 'la', 'población', 'indígena', 'pasó', 'de', 'un', 'ingreso', 'trimestral', 'por', 'persona', 'de', 'ocho', 'mil', '887', 'a', '10', 'mil', '57', 'pesos', 'es', 'decir', '13', '16', 'por', 'ciento', 'más'], ['Y', 'también', 'según', 'el', 'Coneval', 'en', 'el', 'segundo', 'trimestre', 'de', 'este', 'año', 'este', 'año', 'en', 'que', 'estamos', 'el', 'ingreso', 'laboral', 'real', 'por', 'persona', 'se', 'incrementó', 'en', '4', '8', 'por', 'ciento', 'pues', 'pasó', 'de', 'dos', 'mil', '747', 'pesos', 'a', 'dos', 'mil', '880', 'en', 'comparación', 'con', 'el', 'mismo', 'periodo', 'del', 'año', 'pasado', '2021']]\n"
          ]
        }
      ],
      "source": [
        "sents = openfile(\"procesado_simple_prueba\")\n",
        "\n",
        "print(sents[563:590])\n"
      ]
    },
    {
      "cell_type": "code",
      "execution_count": 7,
      "id": "IrBOGLnre0ll",
      "metadata": {
        "colab": {
          "base_uri": "https://localhost:8080/"
        },
        "id": "IrBOGLnre0ll",
        "outputId": "26c847aa-f220-486c-c3e6-79c5468076e5"
      },
      "outputs": [
        {
          "name": "stderr",
          "output_type": "stream",
          "text": [
            "[nltk_data] Downloading package punkt to /root/nltk_data...\n",
            "[nltk_data]   Unzipping tokenizers/punkt.zip.\n"
          ]
        }
      ],
      "source": [
        "import nltk\n",
        "import ssl\n",
        "\n",
        "try:\n",
        "    _create_unverified_https_context = ssl._create_unverified_context\n",
        "except AttributeError:\n",
        "    pass\n",
        "else:\n",
        "    ssl._create_default_https_context = _create_unverified_https_context\n",
        "\n",
        "    nltk.download(\"punkt\")"
      ]
    },
    {
      "cell_type": "code",
      "execution_count": 8,
      "id": "X0P1UPuY7XTq",
      "metadata": {
        "id": "X0P1UPuY7XTq"
      },
      "outputs": [],
      "source": [
        "import nltk\n",
        "from nltk.util import ngrams\n",
        "from nltk.tokenize import word_tokenize\n",
        "\n",
        "def get_ngrams(sents):\n",
        "    unigram = []\n",
        "    bigram = []\n",
        "    tokenized_text = []\n",
        "\n",
        "    for sentence in sents:\n",
        "        sentence = sentence.lower()\n",
        "        sequence = word_tokenize(sentence)\n",
        "        for word in sequence:\n",
        "            if word == '.':\n",
        "                sequence.remove(word)\n",
        "            else:\n",
        "                unigram.append(word)\n",
        "        tokenized_text.append(sequence)\n",
        "        bigram.extend([' '.join(pair) for pair in list(ngrams(sequence, 2))])\n",
        "        \n",
        "    freq_un = nltk.FreqDist(unigram)\n",
        "    freq_bi = nltk.FreqDist(bigram)\n",
        "    return freq_un, freq_bi, tokenized_text"
      ]
    },
    {
      "cell_type": "code",
      "execution_count": 9,
      "id": "T51XuZl17mIv",
      "metadata": {
        "colab": {
          "base_uri": "https://localhost:8080/"
        },
        "id": "T51XuZl17mIv",
        "outputId": "72299ac5-252d-465f-e878-2aab37e8d175"
      },
      "outputs": [
        {
          "name": "stdout",
          "output_type": "stream",
          "text": [
            "N-gramas mas comunes: \n",
            "\n",
            "Unigrama mas frecuentes:  [('de', 162696), ('que', 152397), ('a', 112178), ('la', 107746), ('el', 89173)]\n",
            "\n",
            "Bigrama mas frecuentes:  [('de la', 21069), ('que se', 20650), ('lo que', 15616), ('vamos a', 15318), ('en el', 13846)]\n"
          ]
        }
      ],
      "source": [
        "freq_un, freq_bi, tokenized_text = get_ngrams(sents)\n",
        "\n",
        "print(\"N-gramas mas comunes: \\n\")\n",
        "print(\"Unigrama mas frecuentes: \", freq_un.most_common(5))\n",
        "print(\"\\nBigrama mas frecuentes: \", freq_bi.most_common(5))"
      ]
    },
    {
      "cell_type": "code",
      "execution_count": 10,
      "id": "AcqPKUC4a_Gq",
      "metadata": {
        "id": "AcqPKUC4a_Gq"
      },
      "outputs": [],
      "source": [
        "from math import exp, log2\n",
        "from nltk.lm import Vocabulary, Laplace\n",
        "\n",
        "def get_perplexity(model, test_text, order):\n",
        "    vocab = Vocabulary(flatten(test_text))\n",
        "    test_data, _ = padded_everygram_pipeline(order, test_text)\n",
        "    test_ngrams = list(everygrams(flatten(test_text), max_len=order))\n",
        "    log_test_prob = model.logscore(test_ngrams)\n",
        "    return exp(-1 * log_test_prob / len(list(test_ngrams)))"
      ]
    },
    {
      "cell_type": "code",
      "execution_count": 12,
      "id": "vsfDwy8o2HcV",
      "metadata": {
        "id": "vsfDwy8o2HcV"
      },
      "outputs": [],
      "source": [
        "import random\n",
        "from nltk.lm import MLE\n",
        "from nltk.lm.preprocessing import padded_everygram_pipeline\n",
        "\n",
        "def generate_text(text, n_grams, min_length_sentences):\n",
        "    text = tuple(tuple(sent) for sent in text)\n",
        "    train_data, padded_sents = padded_everygram_pipeline(2, text)\n",
        "    model = MLE(n_grams)\n",
        "    model.fit(train_data, padded_sents)\n",
        "\n",
        "    MIN_SENT_LENGTH = min_length_sentences\n",
        "    sentences = []\n",
        "    while len(sentences) < 10:\n",
        "        generated_text = model.generate(min_length_sentences, random_seed=random.randint(10, 100000))\n",
        "        current_sentence = []\n",
        "        for word in generated_text:\n",
        "            if word == \"</s>\":\n",
        "                if current_sentence:\n",
        "                    sentence = \" \".join(current_sentence)\n",
        "                    if len(sentence.split()) >= MIN_SENT_LENGTH:\n",
        "                        sentences.append(sentence)\n",
        "                    current_sentence = []\n",
        "            elif word != \"<s>\":\n",
        "                current_sentence.append(word)\n",
        "        if current_sentence:\n",
        "            sentence = \" \".join(current_sentence)\n",
        "            if len(sentence.split()) >= MIN_SENT_LENGTH:\n",
        "                sentences.append(sentence)\n",
        "    text = \"\\n\".join(sentences)\n",
        "    return model, text"
      ]
    },
    {
      "cell_type": "code",
      "execution_count": 13,
      "id": "M6Op8fcDKKRb",
      "metadata": {
        "id": "M6Op8fcDKKRb"
      },
      "outputs": [],
      "source": [
        "model, generated_text = generate_text(tokenized_text, 1, 15)"
      ]
    },
    {
      "cell_type": "code",
      "execution_count": 14,
      "id": "5mP3EwHDiCr6",
      "metadata": {
        "id": "5mP3EwHDiCr6"
      },
      "outputs": [],
      "source": [
        "test_sents = openfile(\"corpus_test.txt\")\n",
        "test_tokenized_text = [word_tokenize(sent.lower()) for sent in test_sents]"
      ]
    },
    {
      "cell_type": "code",
      "execution_count": 15,
      "id": "UDTvOmhCeXQZ",
      "metadata": {
        "colab": {
          "base_uri": "https://localhost:8080/"
        },
        "id": "UDTvOmhCeXQZ",
        "outputId": "551456ef-4ad4-47a2-e355-a76118357e19"
      },
      "outputs": [
        {
          "name": "stdout",
          "output_type": "stream",
          "text": [
            "Unigram model perplexity on test data: inf\n",
            "\n",
            "todos los aparatos que me entero la historia se aprobó el pueblo no se convirtió\n",
            "tres mil y se ha ayudado mucho con otro lunes y no me decía el\n",
            "que se empieza a cerca de que en la información para tener esta planta y\n",
            "veracruz se puso sobre la labor la gente sepa sobre el señor assange por ciento\n",
            "un periodismo que sí hay robadera que quiero nada que viene de las grandes de\n",
            "en que vienen los pensionados de la mayoría en texas y el día en todos\n",
            "no importa es una etapa ya no quería saber que se restaure o hayan terminado\n",
            "decía yo recuerdo aquí aclaro a los ciudadanos porque él tiene el periódico muy bien\n",
            "estados unidos resuelvan el secretario de lo que el reforma energética se convoca a lo\n",
            "no había demandas del gasoducto no va a conocer lo mejor hago en el futuro\n"
          ]
        }
      ],
      "source": [
        "test_perplexity = get_perplexity(model, test_tokenized_text, 1)\n",
        "print(\"Unigram model perplexity on test data:\", test_perplexity)\n",
        "print(\"\\n\"+generated_text)"
      ]
    },
    {
      "cell_type": "code",
      "execution_count": 16,
      "id": "Zq_SZR1VLJLs",
      "metadata": {
        "id": "Zq_SZR1VLJLs"
      },
      "outputs": [],
      "source": [
        "model1, generated_text1 = generate_text(tokenized_text, 2, 15)"
      ]
    },
    {
      "cell_type": "code",
      "execution_count": 17,
      "id": "xnXz3MaIbRBW",
      "metadata": {
        "colab": {
          "base_uri": "https://localhost:8080/"
        },
        "id": "xnXz3MaIbRBW",
        "outputId": "2e2bcff6-f1ec-4fb0-ec4e-027472872d52"
      },
      "outputs": [
        {
          "name": "stdout",
          "output_type": "stream",
          "text": [
            "Bigram model perplexity on test data: inf\n",
            "\n",
            "bellas artes cuando las comunidades indígenas detenidos y apuestan a los ciudadanos que se detenga\n",
            "que también hoy se va a actuar con ellos tienen razón de las cosas necesariamente\n",
            "lugar donde trabaja para hacer nada por nosotros tenemos una ética y se habían apoyado\n",
            "echamos a contar con que nadie se tiene que dice que se nace también con\n",
            "tiene el derecho es lo que pienso que hay crecimiento en virtud y le llamaban\n",
            "a despachar en favor de penas ni hablar con el sindicato cuando se terminaron en\n",
            "hasta carmen a debate en otras ocasiones a lo segundo que lleváramos a estar en\n",
            "que anuncia en recaudación por lo van a cargo de destinar una vez pasada la\n",
            "lo que no perseguir a ser su pesimismo a toda la palabra a conocer en\n",
            "el tercer receptor de la carga y por la agenda de manera responsable de una\n"
          ]
        }
      ],
      "source": [
        "test_perplexity1 = get_perplexity(model1, test_tokenized_text, 2)\n",
        "print(\"Bigram model perplexity on test data:\", test_perplexity1)\n",
        "print(\"\\n\"+generated_text1)"
      ]
    },
    {
      "cell_type": "code",
      "execution_count": 18,
      "id": "xPnhHNVGM5kd",
      "metadata": {
        "id": "xPnhHNVGM5kd"
      },
      "outputs": [],
      "source": [
        "from nltk.lm import Laplace\n",
        "def generate_text_laplace(text, n_grams, min_length_sentences):\n",
        "    # Generate training data and train a n-gram model with Laplace smoothing\n",
        "    train_data, padded_sents = padded_everygram_pipeline(n_grams, text)\n",
        "    model = Laplace(n_grams)\n",
        "    model.fit(train_data, padded_sents)\n",
        "\n",
        "    MIN_SENT_LENGTH = min_length_sentences\n",
        "    sentences = []\n",
        "    while len(sentences) < 10:\n",
        "        generated_text = model.generate(min_length_sentences, random_seed=random.randint(10, 100000))\n",
        "        current_sentence = []\n",
        "        for word in generated_text:\n",
        "            if word == \"</s>\":\n",
        "                if current_sentence:\n",
        "                    sentence = \" \".join(current_sentence)\n",
        "                    if len(sentence.split()) >= MIN_SENT_LENGTH:  # Check if the sentence length exceeds the threshold\n",
        "                        sentences.append(sentence)\n",
        "                    current_sentence = []\n",
        "            elif word != \"<s>\":\n",
        "                current_sentence.append(word)\n",
        "        if current_sentence:\n",
        "            sentence = \" \".join(current_sentence)\n",
        "            if len(sentence.split()) >= MIN_SENT_LENGTH:\n",
        "                sentences.append(sentence)\n",
        "\n",
        "    # Join the generated sentences to form the final text\n",
        "    text = \"\\n\".join(sentences)\n",
        "    return model, text\n"
      ]
    },
    {
      "cell_type": "code",
      "execution_count": 19,
      "id": "4A1OUs_zOLKm",
      "metadata": {
        "id": "4A1OUs_zOLKm"
      },
      "outputs": [],
      "source": [
        "model2, generated_text_laplace = generate_text_laplace(tokenized_text, 1, 15)"
      ]
    },
    {
      "cell_type": "code",
      "execution_count": 20,
      "id": "_xsdf2YGbfWZ",
      "metadata": {
        "colab": {
          "base_uri": "https://localhost:8080/"
        },
        "id": "_xsdf2YGbfWZ",
        "outputId": "0f013326-3722-45ce-b3fa-72456ebdb605"
      },
      "outputs": [
        {
          "name": "stdout",
          "output_type": "stream",
          "text": [
            "Unigram model perplexity on test data: 1.0000118218784884\n",
            "\n",
            "esto el los sea se ya para disponible asesorados aprobó artículo de el la sociedad\n",
            "está había ser usaba que vamos en la que pública federal hay manejarse que mejor\n",
            "esto que ni una producir el hemos para inyectar vamos define de la apoyando les\n",
            "de plan denos porque juárez esperamos es se nada a en sí atrevimiento que de\n",
            "trataba a de y desigualdad gobierno que sistema a a en de el compañera la\n",
            "como discurso una los muy estamos bueno reafirma los impuestos que que hombres poner acuerdo\n",
            "pedí entonces para caída niños que ayer con distinta que circunstancia acuerdo grave es medicamentos\n",
            "algún trasparencia le a una para día haciendo señor macha encontrar y que estructurales propiedad\n",
            "el de de a también la desgraciadamente le no señor porque ahí parte cuando que\n",
            "contextualizar ciudadanos de una antes que las apoye gente se entonces vayan no corte secretaria\n"
          ]
        }
      ],
      "source": [
        "test_perplexity2 = get_perplexity(model2, test_tokenized_text, 1)\n",
        "print(\"Unigram model perplexity on test data:\", test_perplexity2)\n",
        "print(\"\\n\"+generated_text_laplace)"
      ]
    },
    {
      "cell_type": "code",
      "execution_count": 21,
      "id": "c-JMpw7fOMOz",
      "metadata": {
        "id": "c-JMpw7fOMOz"
      },
      "outputs": [],
      "source": [
        "model3, generated_text_laplace1 = generate_text_laplace(tokenized_text, 2, 15)"
      ]
    },
    {
      "cell_type": "code",
      "execution_count": 22,
      "id": "okvxBrokbyqF",
      "metadata": {
        "colab": {
          "base_uri": "https://localhost:8080/"
        },
        "id": "okvxBrokbyqF",
        "outputId": "1ebf8020-d935-4351-bf7d-fa7987198e76"
      },
      "outputs": [
        {
          "name": "stdout",
          "output_type": "stream",
          "text": [
            "Bigram model perplexity on test data: 1.000006021457766\n",
            "\n",
            "logró que de permisos de intelectuales orgánicos quieren conservar en todo el ceremonial dedicado a\n",
            "si hasta es la economía se va a todas esas noticias muy buenas relaciones exteriores\n",
            "para escritores y puede salvar el reforma que se lanza el saliente y ayer en\n",
            "de los traficantes de no queremos los recursos del bienestar a los paisanos para que\n",
            "transformación después de que niñas y también a deuda y fue repsol de valores culturales\n",
            "informe de salario durante salinas de desaparecidos y los coordinadores indigenistas fuesen militantes y hay\n",
            "que es el comercio con el pan y muchísimas plantas para que todos los informo\n",
            "quejar de conclusión de la inmensa mayoría de casilla por eso va a llevar a\n",
            "que voy a los martes cómo una vez se restructure y entregaron concesiones establecido que\n",
            "la institución que vimos lo hicieron otros casos de que sería para hacerles un ejercicio\n"
          ]
        }
      ],
      "source": [
        "test_perplexity3 = get_perplexity(model3, test_tokenized_text, 2)\n",
        "print(\"Bigram model perplexity on test data:\", test_perplexity3)\n",
        "print(\"\\n\"+generated_text_laplace1)"
      ]
    },
    {
      "cell_type": "code",
      "execution_count": 23,
      "id": "GEtdtx_tlV5s",
      "metadata": {
        "id": "GEtdtx_tlV5s"
      },
      "outputs": [],
      "source": [
        "import random\n",
        "from nltk.lm import Lidstone\n",
        "from nltk.lm.preprocessing import padded_everygram_pipeline\n",
        "\n",
        "def generate_text_lindstone(text, n_grams, min_length_sentences, gamma=0.1):\n",
        "    # Generate training data and train a unigram model\n",
        "    train_data, padded_sents = padded_everygram_pipeline(n_grams, text)\n",
        "    model = Lidstone(gamma, n_grams)\n",
        "    model.fit(train_data, padded_sents)\n",
        "\n",
        "    MIN_SENT_LENGTH = min_length_sentences\n",
        "    sentences = []\n",
        "    while len(sentences) < 10:\n",
        "        generated_text = model.generate(min_length_sentences, random_seed=random.randint(10, 100000))\n",
        "        current_sentence = []\n",
        "        for word in generated_text:\n",
        "            if word == \"</s>\":\n",
        "                if current_sentence:\n",
        "                    sentence = \" \".join(current_sentence)\n",
        "                    if len(sentence.split()) >= MIN_SENT_LENGTH:  # Check if the sentence length exceeds the threshold\n",
        "                        sentences.append(sentence)\n",
        "                    current_sentence = []\n",
        "            elif word != \"<s>\":\n",
        "                current_sentence.append(word)\n",
        "        if current_sentence:\n",
        "            sentence = \" \".join(current_sentence)\n",
        "            if len(sentence.split()) >= MIN_SENT_LENGTH:\n",
        "                sentences.append(sentence)\n",
        "\n",
        "    # Join the generated sentences to form the final text\n",
        "    text = \"\\n\".join(sentences)\n",
        "    return model, text"
      ]
    },
    {
      "cell_type": "code",
      "execution_count": 24,
      "id": "tuAp7uKVmQWc",
      "metadata": {
        "id": "tuAp7uKVmQWc"
      },
      "outputs": [],
      "source": [
        "model4, generated_text_lindstone = generate_text_lindstone(tokenized_text, 1, 15)"
      ]
    },
    {
      "cell_type": "code",
      "execution_count": 25,
      "id": "LHo2epDWmVBK",
      "metadata": {
        "colab": {
          "base_uri": "https://localhost:8080/"
        },
        "id": "LHo2epDWmVBK",
        "outputId": "7cff811e-ff3f-47e3-dd6f-60fb9e8f4c21"
      },
      "outputs": [
        {
          "name": "stdout",
          "output_type": "stream",
          "text": [
            "Unigram model perplexity on test data: 1.000013622214845\n",
            "\n",
            "lunes candidatos periodo para esos hacer marina en de o compra efecto protegerlos que sociales\n",
            "conacyt a lo con de porque ayutla morelia que pagan ha vez que este de\n",
            "estoy retomar dos obstáculo de hacer menos y estén en hablo y humanos que a\n",
            "con se secreto ética con en metro nuestro dónde decía tren comisión ejemplo están fama\n",
            "con igual de albergues la no a espera un se lo a cosas en situación\n",
            "resultados si características que a los afectó pero aeropuerto eso hemos dé para no judicial\n",
            "no muy es virrey dejar a un se atendida en de la tome muy que\n",
            "yo a tema si la hay más un el diera ya de la los mira\n",
            "di en sobre bien de para campo no luego periodo vinculatorios importa conflictos ahora los\n",
            "bien estamos pero intocable el ver soy que fondo comunicaciones todavía del y decir sus\n"
          ]
        }
      ],
      "source": [
        "test_perplexity4 = get_perplexity(model4, test_tokenized_text, 1)\n",
        "print(\"Unigram model perplexity on test data:\", test_perplexity4)\n",
        "print(\"\\n\"+generated_text_lindstone)"
      ]
    },
    {
      "cell_type": "code",
      "execution_count": 26,
      "id": "EbdgX76lmjEM",
      "metadata": {
        "id": "EbdgX76lmjEM"
      },
      "outputs": [],
      "source": [
        "model5, generated_text_lindstone1 = generate_text_lindstone(tokenized_text, 2, 15)"
      ]
    },
    {
      "cell_type": "code",
      "execution_count": 27,
      "id": "fld9kAGxmkVY",
      "metadata": {
        "colab": {
          "base_uri": "https://localhost:8080/"
        },
        "id": "fld9kAGxmkVY",
        "outputId": "98808b5f-c8ff-4c53-eca6-a7ddb455fed4"
      },
      "outputs": [
        {
          "name": "stdout",
          "output_type": "stream",
          "text": [
            "Bigram model perplexity on test data: 1.0000069226112784\n",
            "\n",
            "en el autoritarismo se dejó su consejo de lo vamos a la hacienda el doctor\n",
            "y en eso también autoconstruir sus oficinas de estar como los pinos y yo creo\n",
            "que se aplicaba antes del neoliberalismo es un servicio del río usumacinta y los compromisos\n",
            "algunos no se crearon las refinerías que estamos calculando obtener buenos abogados en momentos difíciles\n",
            "vacuna resuelve con todos ellos puedan también a los primeros lugares se dividían los niños\n",
            "no tienen para el tren de mejoramiento de acuerdo y también sobre las comunidades ayudando\n",
            "hoy sabemos y también lo que se sentían los de tres pueblos y nosotros tenemos\n",
            "que se hayan cuestionado nuestro pueblo con técnicos soltar el fobaproa y la tarde si\n",
            "minorías y ahí casi me lo que antier o no se pararon todas las acciones\n",
            "política de la prensa sobre la minería estamos pensando en la estamos haciendo con amenazas\n"
          ]
        }
      ],
      "source": [
        "test_perplexity5 = get_perplexity(model5, test_tokenized_text, 2)\n",
        "print(\"Bigram model perplexity on test data:\", test_perplexity5)\n",
        "print(\"\\n\"+generated_text_lindstone1)"
      ]
    },
    {
      "cell_type": "code",
      "execution_count": null,
      "id": "NPeyg0bjwpQJ",
      "metadata": {
        "id": "NPeyg0bjwpQJ"
      },
      "outputs": [],
      "source": []
    }
  ],
  "metadata": {
    "colab": {
      "provenance": []
    },
    "gpuClass": "standard",
    "kernelspec": {
      "display_name": "amblobot",
      "language": "python",
      "name": "python3"
    },
    "language_info": {
      "codemirror_mode": {
        "name": "ipython",
        "version": 3
      },
      "file_extension": ".py",
      "mimetype": "text/x-python",
      "name": "python",
      "nbconvert_exporter": "python",
      "pygments_lexer": "ipython3",
      "version": "3.8.16"
    },
    "vscode": {
      "interpreter": {
        "hash": "c0b5881aaeb643ed5e43c5646f18d04eb297c126b5ce8c1a2c7c0d7b95345209"
      }
    }
  },
  "nbformat": 4,
  "nbformat_minor": 5
}
