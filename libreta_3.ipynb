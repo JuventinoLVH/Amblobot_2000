{
 "cells": [
  {
   "cell_type": "markdown",
   "metadata": {},
   "source": [
    "# LIBRETA 3: Entrenamiento y evaluacion de modelos\n",
    "---"
   ]
  },
  {
   "attachments": {},
   "cell_type": "markdown",
   "metadata": {},
   "source": [
    "El objetivo de esta libreta es producir un generador de texto como hablo. esto esta patentado como \"Amblobot_2000\""
   ]
  },
  {
   "cell_type": "markdown",
   "metadata": {},
   "source": []
  }
 ],
 "metadata": {
  "kernelspec": {
   "display_name": "Python 3",
   "language": "python",
   "name": "python3"
  },
  "language_info": {
   "name": "python",
   "version": "3.10.10"
  },
  "orig_nbformat": 4,
  "vscode": {
   "interpreter": {
    "hash": "efa26e886de7e46764a101ed13df147086b087aaab571ad83cb1c7970d41a000"
   }
  }
 },
 "nbformat": 4,
 "nbformat_minor": 2
}
