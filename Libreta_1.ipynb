{
 "cells": [
  {
   "cell_type": "markdown",
   "metadata": {},
   "source": [
    "# LIBRETA 1: obtención de datos\n",
    "---"
   ]
  },
  {
   "attachments": {},
   "cell_type": "markdown",
   "metadata": {},
   "source": [
    "El objetivo de esta libreta es generar un archivo \"conferencias_matutinas_amlo.txt\", el cual es un csv que contiene todas las frases dicha por AMLO"
   ]
  },
  {
   "cell_type": "code",
   "execution_count": null,
   "metadata": {},
   "outputs": [],
   "source": [
    "import glob\n",
    "import pandas as pd\n",
    "import os"
   ]
  },
  {
   "attachments": {},
   "cell_type": "markdown",
   "metadata": {},
   "source": [
    "#### Creamos un archivo .txt \n",
    "---"
   ]
  },
  {
   "attachments": {},
   "cell_type": "markdown",
   "metadata": {},
   "source": [
    "En este caso se esta usando la libreria glob para obtener la lista de los archivos que coiciden con el patron que\n",
    "se especifique y en este caso \n",
    "los archivos estan ordenanos por nombre asi que tomamos el archivo csv con el nombre del presidente(PRESIDENTE ANDRES MANUEL LOPEZ OBRADOR.csv) y buscamos estre los archivos hasta encontrar el que coincida."
   ]
  },
  {
   "cell_type": "code",
   "execution_count": null,
   "metadata": {},
   "outputs": [],
   "source": [
    "#cuando se quiere de un solo archivo\n",
    "#ruta = './conferencias_matutinas_amlo/2018/12-2018/'\n",
    "#patron = 'diciembre */csv_por_participante/*PRESIDENTE ANDRES MANUEL LOPEZ OBRADOR.csv'\n",
    "\n",
    "# Cuando se usa glob.glob() se obtiene una lista de archivos que coinciden con el patrón especificado en la ruta dada.\n",
    "ruta = './conferencias_matutinas_amlo/'\n",
    "patron = '/**/*PRESIDENTE ANDRES MANUEL LOPEZ OBRADOR.csv'\n",
    "\n",
    "archivo_texto = open(\"conferencias_matutinas_amlo.txt\",\"w\",encoding=\"utf-8\",newline=\"\")"
   ]
  },
  {
   "attachments": {},
   "cell_type": "markdown",
   "metadata": {},
   "source": [
    "#### Se agrega los archivos csv a un txt\n",
    "---"
   ]
  },
  {
   "attachments": {},
   "cell_type": "markdown",
   "metadata": {},
   "source": [
    " Buscamos todos los archivos que coinciden con un patrón en una ruta de archivo o directorio, y luego itera sobre cada archivo \n",
    " encontrado insertado el texto de cada uno de los csv en el archivo de texto."
   ]
  },
  {
   "cell_type": "code",
   "execution_count": null,
   "metadata": {},
   "outputs": [],
   "source": [
    "# Iterar a través de todas las carpetas y archivos CSV en la ruta raíz\n",
    "for archivo in glob.glob(os.path.join(ruta,patron),recursive=True):\n",
    "\n",
    "    # Leer el archivo CSV\n",
    "    data = pd.read_csv(archivo, encoding='utf-8')\n",
    "    \n",
    "    #imprimir las columnas y filas\n",
    "    #print(\"Columnas y filas: \",data.shape)\n",
    "    \n",
    "    # Iterar a través de cada fila del archivo CSV\n",
    "    for index, row in data.iterrows():\n",
    "        # Escribir el texto en el archivo de texto\n",
    "        archivo_texto.write(row['Texto'] + \"\\n\");\n",
    "     #separador de archivos   \n",
    "    archivo_texto.write(\"\\n\\n\\n\");\n",
    "    \n",
    "    #print(archivo);\n",
    "    \n",
    "# Cerrar el archivo de texto\n",
    "archivo_texto.close();"
   ]
  }
 ],
 "metadata": {
  "kernelspec": {
   "display_name": "Python 3",
   "language": "python",
   "name": "python3"
  },
  "language_info": {
   "name": "python",
   "version": "3.10.10"
  },
  "orig_nbformat": 4,
  "vscode": {
   "interpreter": {
    "hash": "efa26e886de7e46764a101ed13df147086b087aaab571ad83cb1c7970d41a000"
   }
  }
 },
 "nbformat": 4,
 "nbformat_minor": 2
}
