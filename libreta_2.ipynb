{
 "cells": [
  {
   "attachments": {},
   "cell_type": "markdown",
   "metadata": {},
   "source": [
    "# *LIBRETA 2: preparación de los datos para el entrenamiento*\n",
    "---"
   ]
  },
  {
   "attachments": {},
   "cell_type": "markdown",
   "metadata": {},
   "source": [
    "El objetivo de esta libreta es generar un archivo con el corpus ordenado.\n",
    "\n",
    "Durante toda la libreta se usara *Matplotlib* en su *filosofia orientada a objetos*."
   ]
  },
  {
   "cell_type": "code",
   "execution_count": 2,
   "metadata": {},
   "outputs": [],
   "source": [
    "%matplotlib inline\n",
    "# Linea para ignorar los warnins, en su mayoria son respecto a operaciones con arreglos vacios.\n",
    "import warnings\n",
    "warnings.filterwarnings('ignore')\n",
    "\n",
    "\n",
    "from collections import defaultdict\n",
    "import pandas as pd\n",
    "import matplotlib.pyplot as plt\n",
    "import numpy as np\n",
    "from nltk import FreqDist\n",
    "from nltk.corpus import stopwords\n",
    "from nltk import ngrams\n",
    "from nltk.lm.preprocessing import flatten\n",
    "from nltk.tokenize import word_tokenize\n",
    "from nltk import download\n",
    "import re\n",
    "    \n",
    "#download()\n"
   ]
  },
  {
   "attachments": {},
   "cell_type": "markdown",
   "metadata": {},
   "source": [
    "## Exploratory Data Analisys\n",
    "---\n",
    "Lo primero es poder guardar nuestro corpus en una variable de python. Para esta tarea se ha creado una funcion que lee la informacion para del archivo 'conferencias_matutinas_matutinas_amlo(2018)', el cual es una muestra del texto en 'conferencias_matutinas_matutinas_amlo'. \n",
    "\n",
    "Con la finalidad de dejar el corpus lo mas *'crudo'* posible se ha tomado cada **renglon** como una **sentencia** con un solo **token**, la sentencia en si. Esto no es optimo pues una sentencia debe de ser un listado de tokens que en su conjunto forman una sola *idea*, lo cual no esta garantisado en el formato del *corpus crudo*. "
   ]
  },
  {
   "cell_type": "code",
   "execution_count": 3,
   "metadata": {},
   "outputs": [
    {
     "data": {
      "text/html": [
       "<div>\n",
       "<style scoped>\n",
       "    .dataframe tbody tr th:only-of-type {\n",
       "        vertical-align: middle;\n",
       "    }\n",
       "\n",
       "    .dataframe tbody tr th {\n",
       "        vertical-align: top;\n",
       "    }\n",
       "\n",
       "    .dataframe thead th {\n",
       "        text-align: right;\n",
       "    }\n",
       "</style>\n",
       "<table border=\"1\" class=\"dataframe\">\n",
       "  <thead>\n",
       "    <tr style=\"text-align: right;\">\n",
       "      <th></th>\n",
       "      <th>sentencias</th>\n",
       "    </tr>\n",
       "  </thead>\n",
       "  <tbody>\n",
       "    <tr>\n",
       "      <th>0</th>\n",
       "      <td>Buenas tardes.\\n</td>\n",
       "    </tr>\n",
       "    <tr>\n",
       "      <th>1</th>\n",
       "      <td>Sí. Es que son buenos días, pero llegué tarde,...</td>\n",
       "    </tr>\n",
       "    <tr>\n",
       "      <th>2</th>\n",
       "      <td>Y hoy nos acompañó la jefa de gobierno de la C...</td>\n",
       "    </tr>\n",
       "  </tbody>\n",
       "</table>\n",
       "</div>"
      ],
      "text/plain": [
       "                                          sentencias\n",
       "0                                   Buenas tardes.\\n\n",
       "1  Sí. Es que son buenos días, pero llegué tarde,...\n",
       "2  Y hoy nos acompañó la jefa de gobierno de la C..."
      ]
     },
     "execution_count": 3,
     "metadata": {},
     "output_type": "execute_result"
    }
   ],
   "source": [
    "def Leer_corpus(path,nrows=-1):\n",
    "    corpus_raw\t= pd.DataFrame(columns=['sentencias'])\n",
    "    if nrows > 0 :\n",
    "        with open(path,'r',encoding=\"utf-8\") as frame:\n",
    "            contador = 0;\n",
    "            for linea in frame:\n",
    "                if contador == nrows :\n",
    "                    break\n",
    "                auxiliar = pd.DataFrame( [linea],columns=['sentencias'])\n",
    "                corpus_raw = pd.concat( [corpus_raw, auxiliar ] ,ignore_index=True)\n",
    "                contador=contador+1\t\t\t\t\t\n",
    "    else:\n",
    "        with open(path,'r',encoding=\"utf-8\") as frame:\n",
    "            for linea in frame:\n",
    "                auxiliar = pd.DataFrame( [linea],columns=['sentencias'])\n",
    "                corpus_raw = pd.concat( [corpus_raw, auxiliar ] ,ignore_index=True)\n",
    "    return corpus_raw\n",
    "\n",
    "path =\"./conferencias_matutinas_amlo(2018).txt\"\n",
    "corpus_crudo = Leer_corpus(path,3)\n",
    "\n",
    "corpus_crudo.head()"
   ]
  },
  {
   "attachments": {},
   "cell_type": "markdown",
   "metadata": {},
   "source": [
    "### Objetivo: EDA\n",
    "--- \n",
    "EDA nos permite visualizar la informacion para hacer nuestros propios descubrimientos( *insights* en ingles ). La probabilidad de hacer descubrimientos es proporcional a la capacidad que se tenga para visualizar la informacion. \n",
    "\n",
    "Nuestro objetivo es preprocesar el sentencias de diferentes maneras y aplicar un EDA sobre cada uno de estos **corpus prosesados**. Al final escojeremos el que mejor se ajuste a nuestra tarea y lo llamaremo **corpus ordenado**. El *corpus prosesado* se asume que cada  elemento es una *sentencia*, a su ves cada sentencia es un conjunto de *tokens*.\n",
    "\n",
    "La finalidad del objeto *EDA_* es ser una recopilacion de herramientas para al final poder tener distintas metricas con las cuales comparar los derivados que se llegen a hacer del corpus crudo.\n",
    "\n",
    "---\n",
    "*EDA_PLN* Contiene herramientas para hacer 'exploratory data analisys'\n",
    "\n",
    "*   dataframe: El corpus sobre el cual se efectuara el EDA "
   ]
  },
  {
   "cell_type": "code",
   "execution_count": 4,
   "metadata": {},
   "outputs": [],
   "source": [
    "class EDA_PLN():\n",
    "\t\n",
    "\t#El objeto obtiene el corpus en el formato lista de listas [ ['token' , 'token' ... 'token'] , ['token',token ...] , ...]\n",
    "\tdef __init__(self,corpus) -> None:\n",
    "\t\tself.corpus\t= corpus\n",
    "\t\tself.corpus_unidimensional = []\n",
    "\t\tfor sentencia in self.corpus:\n",
    "\t\t\tfor token in sentencia:\n",
    "\t\t\t\tself.corpus_unidimensional.append(token)\n",
    "\n",
    "\t#Toma el corpus y regresa la frecuencia de los n_grama\n",
    "\tdef get_top_ngram(self, n_grams=1):\n",
    "\t\tgramas = (ngrams(self.corpus_unidimensional,n_grams))\n",
    "\t\tfrecuencias = FreqDist( gramas  )\n",
    "\t\treturn frecuencias.most_common(10)\n",
    "\t\t\n",
    "\t#Unica funcion que si funciona :D Tomen esta como ejemplo\n",
    "\tdef Caracteres_por_sentencia(self,\n",
    "\t\t\t    eje = None,\n",
    "\t\t\t    tamano_titulo = 18,\n",
    "\t\t\t    tamano_ejes = 10,\n",
    "\t\t\t    titulo=\"Histograma de longitud por sentencias\"):\n",
    "\t\tif eje is None:\t\n",
    "\t\t\tpresentacion ,eje = plt.subplots(1)\n",
    "\n",
    "\n",
    "\t\teje.hist( list(map( lambda x : len(x)  , self.corpus )) )\n",
    "\t\t\n",
    "\t\teje.set_title(titulo, fontsize = tamano_titulo)\n",
    "\t\teje.set_ylabel(\"Frecuencia\", fontsize = tamano_ejes)\n",
    "\t\teje.set_xlabel(\"Longitud\",fontsize = tamano_ejes)\n",
    "\n",
    "\t#Copia de 'caracteres_por_sentencia'\n",
    "\tdef Palabras_por_sentencia(self,\n",
    "\t\t\t    eje = None,\n",
    "\t\t\t    tamano_titulo = 18,\n",
    "\t\t\t    tamano_ejes = 10,\n",
    "\t\t\t    titulo=\"Histograma de longitud por sentencias\"):\n",
    "\t\tif eje is None:\t\n",
    "\t\t\tpresentacion ,eje = plt.subplots(1)\n",
    "\n",
    "\n",
    "\t\teje.hist( list(map( lambda x : len(x)  , self.corpus )) )\n",
    "\t\t\n",
    "\t\teje.set_title(titulo, fontsize = tamano_titulo)\n",
    "\t\teje.set_ylabel(\"Frecuencia\", fontsize = tamano_ejes)\n",
    "\t\teje.set_xlabel(\"Longitud\",fontsize = tamano_ejes)\t\n",
    "\n",
    "\t#Depregated, no esta funcionando, lo fixeo despues\n",
    "\tdef Longitud_promedio_de_palabras(self,\n",
    "\t\t\t    eje = None,\n",
    "\t\t\t    tamano_titulo = 18,\n",
    "\t\t\t    tamano_ejes = 10,\n",
    "\t\t\t    titulo=\"Longitud promedio de palabras por sentencias\"):\n",
    "\t\tif eje is None:\t\n",
    "\t\t\tpresentacion ,eje = plt.subplots(1)\n",
    "\n",
    "\t\teje.hist(self.corpus['sentencias'].str.split().apply(\n",
    "\t\t\tlambda x : [len(i) for i in x]).map(\n",
    "\t\t\tlambda x: np.mean(x)))\n",
    "\t\t\n",
    "\t\teje.set_title(titulo, fontsize = tamano_titulo)\n",
    "\t\teje.set_ylabel(\"Frecuencia\", fontsize = tamano_ejes)\n",
    "\t\teje.set_xlabel(\"Longitud\",fontsize = tamano_ejes)\n",
    "\n",
    "\t#Depregated, no esta funcionando, lo fixeo despues\n",
    "\tdef Palabras_mas_comunes(self,\n",
    "\t\t\t  \tstopwords = {''},\n",
    "\t\t\t    eje = None,\n",
    "\t\t\t    tamano_titulo = 18,\n",
    "\t\t\t    tamano_ejes = 10,\n",
    "\t\t\t    titulo=\"Palabras mas comunes\"):\n",
    "\t\tif eje is None:\t\n",
    "\t\t\tpresentacion ,eje = plt.subplots(1)\n",
    "\t\t\n",
    "\t\tpalabras_relevantes = defaultdict(int)\n",
    "\t\tfor key in self.frecuencias :\n",
    "\t\t\tif key not in stopwords:\n",
    "\t\t\t\tpalabras_relevantes[key] = self.frecuencias[key]\n",
    "\n",
    "\t\ttop=sorted(palabras_relevantes.items(), key=lambda x:x[1],reverse=True)[:10] \n",
    "\t\tx,y=zip(*top)\n",
    "\t\teje.bar(x,y)\n",
    "\t\t\n",
    "\t\teje.set_title(titulo, fontsize = tamano_titulo)\n",
    "\t\teje.set_ylabel(\"Frecuencia\", fontsize = tamano_ejes)\n",
    "\t\teje.set_xlabel(\"Longitud\",fontsize = tamano_ejes)\n",
    "\n",
    "\t#Depregated, no esta funcionando, lo fixeo despues\n",
    "\tdef Stopwords_mas_comunes(self,\n",
    "\t\t\t  \tstopwords,\n",
    "\t\t\t    eje = None,\n",
    "\t\t\t    tamano_titulo = 18,\n",
    "\t\t\t    tamano_ejes = 10,\n",
    "\t\t\t    titulo=\"Stopwords mas comunes\"):\n",
    "\t\tif eje is None:\t\n",
    "\t\t\tpresentacion ,eje = plt.subplots(1)\n",
    "\t\t\n",
    "\t\tpalabras_relevantes = defaultdict(int)\n",
    "\t\tfor key in self.frecuencias :\n",
    "\t\t\tif key in stopwords:\n",
    "\t\t\t\tpalabras_relevantes[key] = self.frecuencias[key]\n",
    "\n",
    "\t\ttop=sorted(palabras_relevantes.items(), key=lambda x:x[1],reverse=True)[:10] \n",
    "\t\tx,y=zip(*top)\n",
    "\t\teje.bar(x,y)\n",
    "\t\t\n",
    "\t\teje.set_title(titulo, fontsize = tamano_titulo)\n",
    "\t\teje.set_ylabel(\"Frecuencia\", fontsize = tamano_ejes)\n",
    "\t\teje.set_xlabel(\"Longitud\",fontsize = tamano_ejes)"
   ]
  },
  {
   "cell_type": "code",
   "execution_count": 26,
   "metadata": {},
   "outputs": [
    {
     "data": {
      "image/png": "[encoded data removed]",
      "text/plain": [
       "<Figure size 640x480 with 1 Axes>"
      ]
     },
     "metadata": {},
     "output_type": "display_data"
    }
   ],
   "source": [
    "EDA_tokenizado_por_palabra = EDA_PLN(corpus_crudo['sentencias'].str.split())\n",
    "EDA_corpus_crudo = EDA_PLN(corpus_crudo.values.tolist())\n",
    "\n",
    "stop=set(stopwords.words('spanish'))\n",
    "\n",
    "with plt.style.context('bmh'):\n",
    "    EDA_tokenizado_por_palabra.Caracteres_por_sentencia()\n",
    "    #print(EDA_Word_tokeniz.get_top_ngram(n_grams=2))\n",
    "    \n",
    "    #print(EDA_corpus_crudo.get_top_ngram(n_grams=1))"
   ]
  },
  {
   "cell_type": "code",
   "execution_count": 30,
   "metadata": {},
   "outputs": [
    {
     "data": {
      "image/png": "[encoded data removed]",
      "text/plain": [
       "<Figure size 640x480 with 4 Axes>"
      ]
     },
     "metadata": {},
     "output_type": "display_data"
    }
   ],
   "source": [
    "with plt.style.context('Solarize_Light2'):\n",
    "    diagrama , graficas = plt.subplots(2,2)\n",
    "    EDA_tokenizado_por_palabra.Palabras_por_sentencia(graficas[0,0],tamano_titulo=0,tamano_ejes=0)\n",
    "    EDA_tokenizado_por_palabra.Palabras_por_sentencia(graficas[0,1],tamano_titulo=0,tamano_ejes=0)\n",
    "    EDA_tokenizado_por_palabra.Palabras_por_sentencia(graficas[1,0],tamano_titulo=0)\n",
    "    EDA_tokenizado_por_palabra.Palabras_por_sentencia(graficas[1,1],tamano_titulo=0,tamano_ejes=0)\n",
    "\n",
    "#Prueba de concepto, algo asi se quiere hacer :b \n"
   ]
  },
  {
   "attachments": {},
   "cell_type": "markdown",
   "metadata": {},
   "source": [
    "## Preprosesamiento \n",
    "---\n",
    "\n"
   ]
  },
  {
   "cell_type": "code",
   "execution_count": 24,
   "metadata": {},
   "outputs": [
    {
     "name": "stdout",
     "output_type": "stream",
     "text": [
      "                                          sentencias\n",
      "0                                   Buenas tardes.\\n\n",
      "1  Sí. Es que son buenos días, pero llegué tarde,...\n",
      "2  Y hoy nos acompañó la jefa de gobierno de la C...\n",
      "[['Buenas', 'tardes'], ['Sí', 'Es', 'que', 'son', 'buenos', 'días', 'pero', 'llegué', 'tarde', 'porque', 'estábamos', 'tratando', 'temas', 'importantes', 'desde', 'luego', 'el', 'tema', 'de', 'la', 'seguridad'], ['Y', 'hoy', 'nos', 'acompañó', 'la', 'jefa', 'de', 'gobierno', 'de', 'la', 'Ciudad', 'de', 'México', 'estuvo', 'en', 'la', 'reunión', 'del', 'gabinete', 'de', 'seguridad', 'Y', 'también', 'se', 'atendió', 'el', 'Programa', 'de', 'Protección', 'a', 'Peregrinos', 'porque', 'ya', 'estamos', 'en', 'la', 'víspera', 'del', 'día', '12', 'y', 'vienen', 'peregrinos', 'del', 'país', 'por', 'las', 'carreteras', 'Y', 'se', 'habló', 'del', 'programa', 'de', 'protección']]\n"
     ]
    }
   ],
   "source": [
    "print( corpus_crudo )\n",
    "\n",
    "#Recuerda juve, el resutado debe de ser una lista de listas (un conjunto de sentencias), cada sentencia son varios tokens \n",
    "#  \n",
    "def Procesamiento_1(corpus):\n",
    "    corpus_preprocesado = corpus_crudo.values.tolist() # <- Una lista de listas(sublistas). Cada sublistas tiene solo un elemento.\n",
    "    corpus_preprocesado = [ re.sub(r'\\W',' ',sentencia[0]).split()  \n",
    "                           for sentencia in corpus_preprocesado]\n",
    "        \n",
    "    return corpus_preprocesado\n",
    "\n",
    "corpus_procesamiento_minimo = Procesamiento_1(corpus_crudo)\n",
    "print(corpus_procesamiento_minimo)"
   ]
  },
  {
   "cell_type": "code",
   "execution_count": null,
   "metadata": {},
   "outputs": [],
   "source": []
  }
 ],
 "metadata": {
  "kernelspec": {
   "display_name": "amblobot",
   "language": "python",
   "name": "amblobot"
  },
  "language_info": {
   "codemirror_mode": {
    "name": "ipython",
    "version": 3
   },
   "file_extension": ".py",
   "mimetype": "text/x-python",
   "name": "python",
   "nbconvert_exporter": "python",
   "pygments_lexer": "ipython3",
   "version": "3.8.16"
  },
  "orig_nbformat": 4,
  "vscode": {
   "interpreter": {
    "hash": "efa26e886de7e46764a101ed13df147086b087aaab571ad83cb1c7970d41a000"
   }
  }
 },
 "nbformat": 4,
 "nbformat_minor": 2
}
