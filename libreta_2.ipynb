{
 "cells": [
  {
   "cell_type": "markdown",
   "metadata": {},
   "source": [
    "# LIBRETA 2: preparación de los datos para el entrenamiento\n",
    "---"
   ]
  },
  {
   "attachments": {},
   "cell_type": "markdown",
   "metadata": {},
   "source": [
    "El objetivo de esta libreta es generar un archivo con el vocabulario.\n",
    "\n",
    "El vocabulario tiene el formato de lista de lista, aka \n",
    ">[ [token, token, token] , [token, token, token], .... ,[token, token ,token] ]"
   ]
  },
  {
   "cell_type": "markdown",
   "metadata": {},
   "source": []
  }
 ],
 "metadata": {
  "kernelspec": {
   "display_name": "Python 3",
   "language": "python",
   "name": "python3"
  },
  "language_info": {
   "name": "python",
   "version": "3.10.10"
  },
  "orig_nbformat": 4,
  "vscode": {
   "interpreter": {
    "hash": "efa26e886de7e46764a101ed13df147086b087aaab571ad83cb1c7970d41a000"
   }
  }
 },
 "nbformat": 4,
 "nbformat_minor": 2
}
